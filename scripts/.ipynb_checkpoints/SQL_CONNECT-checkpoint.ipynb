{
 "cells": [
  {
   "cell_type": "code",
   "execution_count": 1,
   "id": "f7c21594-c3b9-4850-97b2-d28b2ef759b8",
   "metadata": {},
   "outputs": [
    {
     "name": "stdout",
     "output_type": "stream",
     "text": [
      "Requirement already satisfied: sqlalchemy in c:\\users\\hp\\anaconda3\\lib\\site-packages (2.0.30)\n",
      "Collecting pymysql\n",
      "  Downloading PyMySQL-1.1.1-py3-none-any.whl.metadata (4.4 kB)\n",
      "Requirement already satisfied: typing-extensions>=4.6.0 in c:\\users\\hp\\anaconda3\\lib\\site-packages (from sqlalchemy) (4.11.0)\n",
      "Requirement already satisfied: greenlet!=0.4.17 in c:\\users\\hp\\anaconda3\\lib\\site-packages (from sqlalchemy) (3.0.1)\n",
      "Downloading PyMySQL-1.1.1-py3-none-any.whl (44 kB)\n",
      "   ---------------------------------------- 0.0/45.0 kB ? eta -:--:--\n",
      "   ---------------------------------------- 0.0/45.0 kB ? eta -:--:--\n",
      "   --------- ------------------------------ 10.2/45.0 kB ? eta -:--:--\n",
      "   ------------------ --------------------- 20.5/45.0 kB 217.9 kB/s eta 0:00:01\n",
      "   ---------------------------------------- 45.0/45.0 kB 318.6 kB/s eta 0:00:00\n",
      "Installing collected packages: pymysql\n",
      "Successfully installed pymysql-1.1.1\n",
      "Note: you may need to restart the kernel to use updated packages.\n"
     ]
    }
   ],
   "source": [
    "pip install sqlalchemy pymysql"
   ]
  },
  {
   "cell_type": "code",
   "execution_count": 5,
   "id": "8a80b203-2c9d-401b-9fdb-a81661b8b656",
   "metadata": {},
   "outputs": [
    {
     "name": "stdout",
     "output_type": "stream",
     "text": [
      "Connected to the database successfully.\n",
      "CSV file loaded successfully.\n",
      "Data uploaded successfully.\n"
     ]
    },
    {
     "name": "stderr",
     "output_type": "stream",
     "text": [
      "C:\\Users\\HP\\AppData\\Local\\Temp\\ipykernel_26200\\2280887428.py:23: UserWarning: The provided table name 'HRemployee_data' is not found exactly as such in the database after writing the table, possibly due to case sensitivity issues. Consider using lower case table names.\n",
      "  accounts_df.to_sql('HRemployee_data', con=engine, if_exists='replace', index=False)\n"
     ]
    }
   ],
   "source": [
    "from sqlalchemy import create_engine\n",
    "import pandas as pd\n",
    "\n",
    "# Replace with your MySQL credentials\n",
    "username = 'root'\n",
    "password = 'Bhargavram...'\n",
    "host = 'localhost:3306'\n",
    "database = 'HR'\n",
    "\n",
    "# Create the connection URL\n",
    "connection_url = f'mysql+pymysql://{username}:{password}@{host}/{database}'\n",
    "\n",
    "try:\n",
    "    # Create an SQLAlchemy engine\n",
    "    engine = create_engine(connection_url)\n",
    "    print(\"Connected to the database successfully.\")\n",
    "\n",
    "    # Create a DataFrame to upload\n",
    "    accounts_df = pd.read_csv('employee_data.csv')\n",
    "    print(\"CSV file loaded successfully.\")\n",
    "\n",
    "    # Upload the DataFrame to MySQL\n",
    "    accounts_df.to_sql('HRemployee_data', con=engine, if_exists='replace', index=False)\n",
    "    print(\"Data uploaded successfully.\")\n",
    "\n",
    "except Exception as e:\n",
    "    print(\"An error occurred:\", e)"
   ]
  },
  {
   "cell_type": "code",
   "execution_count": null,
   "id": "ab479351-9e5f-45c6-bfe6-ef77e37e0cce",
   "metadata": {},
   "outputs": [],
   "source": []
  }
 ],
 "metadata": {
  "kernelspec": {
   "display_name": "Python [conda env:base] *",
   "language": "python",
   "name": "conda-base-py"
  },
  "language_info": {
   "codemirror_mode": {
    "name": "ipython",
    "version": 3
   },
   "file_extension": ".py",
   "mimetype": "text/x-python",
   "name": "python",
   "nbconvert_exporter": "python",
   "pygments_lexer": "ipython3",
   "version": "3.12.7"
  }
 },
 "nbformat": 4,
 "nbformat_minor": 5
}
